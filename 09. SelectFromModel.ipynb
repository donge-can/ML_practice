{
 "cells": [
  {
   "cell_type": "markdown",
   "metadata": {},
   "source": [
    "<br>\n",
    "\n",
    "### SelectFromModel\n",
    "- 특성 선택 : 모델 훈련이 끝난 후 사용자가 지정한 임계값을 기반으로 특성 선택"
   ]
  },
  {
   "cell_type": "code",
   "execution_count": 1,
   "metadata": {},
   "outputs": [],
   "source": [
    "from sklearn.ensemble import RandomForestClassifier"
   ]
  },
  {
   "cell_type": "code",
   "execution_count": null,
   "metadata": {},
   "outputs": [],
   "source": [
    "# 분류기\n",
    "forest = RandomForestClassifier(n_estimators = 500, random_state = 1)\n",
    "\n",
    "forest.fit(x_train, y_train)\n",
    "importances = forest.feature_importances_ \n",
    "# 500개의 결정 트리에서 평균적인 불순도 감소를 기반으로 해당 데이터 셋에서 가장 판별력이 좋은 특성을 추출"
   ]
  },
  {
   "cell_type": "code",
   "execution_count": null,
   "metadata": {},
   "outputs": [],
   "source": [
    "from sklearn.feature_selection import SelectFromModel\n",
    "\n",
    "sfm = SelectFromModel(forest, threshold = 0.1, prefit = True)\n",
    "# forest 모델 내 특성 중 지니계수 혹은 엔트로피 등 기준의 값이 0.1 이상일 경우의 특징을 선택 \n",
    "\n",
    "x_selected = sfm.transform(x_train)\n",
    "print('이 임계 조건을 만족하는 샘플의 수:', x_selected.shape[1])"
   ]
  }
 ],
 "metadata": {
  "kernelspec": {
   "display_name": "Python 3",
   "language": "python",
   "name": "python3"
  },
  "language_info": {
   "codemirror_mode": {
    "name": "ipython",
    "version": 3
   },
   "file_extension": ".py",
   "mimetype": "text/x-python",
   "name": "python",
   "nbconvert_exporter": "python",
   "pygments_lexer": "ipython3",
   "version": "3.7.3"
  }
 },
 "nbformat": 4,
 "nbformat_minor": 2
}
